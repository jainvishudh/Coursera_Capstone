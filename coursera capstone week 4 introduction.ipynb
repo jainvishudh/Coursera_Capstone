{
    "cells": [
        {
            "cell_type": "markdown",
            "metadata": {
                "collapsed": true
            },
            "source": "# Capstone Project - The Battle of Neighborhoods (Week 1)"
        },
        {
            "cell_type": "markdown",
            "metadata": {},
            "source": "# Introduction/Business Problem"
        },
        {
            "cell_type": "markdown",
            "metadata": {},
            "source": "Rajasthan state of India is famous for its historical places and cultural diversities. Many cities across the state have witnessed great history and monuments in those cities are places of great attraction for tourists. So in this project we have decided to compare two cities of Rajasthan : Jaipur and Udaipur. And the target of the study is to compare how similar are the two cities and how can a tourist decide which city he wants to explore."
        },
        {
            "cell_type": "markdown",
            "metadata": {},
            "source": "# Data"
        },
        {
            "cell_type": "markdown",
            "metadata": {},
            "source": "We will be using Foursquare API for retriving geographical data for exploring the neighbourhoods of the two cities. We will be using the Lat long of the two cities to query the API and fetch the results and analyse it for comparing the two cities.\n\nMaps can be plotted to highlight the historical places, restaurants and other venues in the two cities and make the inferences for each categories in the two cities."
        }
    ],
    "metadata": {
        "kernelspec": {
            "display_name": "Python 3.6",
            "language": "python",
            "name": "python3"
        },
        "language_info": {
            "codemirror_mode": {
                "name": "ipython",
                "version": 3
            },
            "file_extension": ".py",
            "mimetype": "text/x-python",
            "name": "python",
            "nbconvert_exporter": "python",
            "pygments_lexer": "ipython3",
            "version": "3.6.9"
        }
    },
    "nbformat": 4,
    "nbformat_minor": 1
}