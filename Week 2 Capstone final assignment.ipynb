{
    "cells": [
        {
            "cell_type": "markdown",
            "metadata": {
                "collapsed": true
            },
            "source": "This is week 2 for the final assignment of the capstone project.\nHere we are comparing the two cities of Rajasthan state of India : Jaipur and Udaipur.\nBoth cities have historic places, tourist places, cafes and restaurants and markets.\nIt can be a good project to compare the two cities and check the similarity of the two cities.\nThe comparison can help an investor to figure out what business is profitable in which city and also can help tourists\nto decide which city to visit first.\nWe fetch the data from foursquare API for both the cities. Then we plot the places on interest of both the cities on map\nand make a detailed study."
        },
        {
            "cell_type": "code",
            "execution_count": 1,
            "metadata": {
                "collapsed": true
            },
            "outputs": [
                {
                    "name": "stdout",
                    "output_type": "stream",
                    "text": "Collecting folium\n\u001b[?25l  Downloading https://files.pythonhosted.org/packages/a4/f0/44e69d50519880287cc41e7c8a6acc58daa9a9acf5f6afc52bcc70f69a6d/folium-0.11.0-py2.py3-none-any.whl (93kB)\n\u001b[K     |\u2588\u2588\u2588\u2588\u2588\u2588\u2588\u2588\u2588\u2588\u2588\u2588\u2588\u2588\u2588\u2588\u2588\u2588\u2588\u2588\u2588\u2588\u2588\u2588\u2588\u2588\u2588\u2588\u2588\u2588\u2588\u2588| 102kB 6.8MB/s ta 0:00:011\n\u001b[?25hRequirement already satisfied: jinja2>=2.9 in /opt/conda/envs/Python36/lib/python3.6/site-packages (from folium) (2.10)\nCollecting branca>=0.3.0 (from folium)\n  Downloading https://files.pythonhosted.org/packages/13/fb/9eacc24ba3216510c6b59a4ea1cd53d87f25ba76237d7f4393abeaf4c94e/branca-0.4.1-py3-none-any.whl\nRequirement already satisfied: requests in /opt/conda/envs/Python36/lib/python3.6/site-packages (from folium) (2.21.0)\nRequirement already satisfied: numpy in /opt/conda/envs/Python36/lib/python3.6/site-packages (from folium) (1.15.4)\nRequirement already satisfied: MarkupSafe>=0.23 in /opt/conda/envs/Python36/lib/python3.6/site-packages (from jinja2>=2.9->folium) (1.1.0)\nRequirement already satisfied: certifi>=2017.4.17 in /opt/conda/envs/Python36/lib/python3.6/site-packages (from requests->folium) (2020.6.20)\nRequirement already satisfied: chardet<3.1.0,>=3.0.2 in /opt/conda/envs/Python36/lib/python3.6/site-packages (from requests->folium) (3.0.4)\nRequirement already satisfied: urllib3<1.25,>=1.21.1 in /opt/conda/envs/Python36/lib/python3.6/site-packages (from requests->folium) (1.24.1)\nRequirement already satisfied: idna<2.9,>=2.5 in /opt/conda/envs/Python36/lib/python3.6/site-packages (from requests->folium) (2.8)\nInstalling collected packages: branca, folium\nSuccessfully installed branca-0.4.1 folium-0.11.0\n"
                }
            ],
            "source": "!pip install folium"
        },
        {
            "cell_type": "code",
            "execution_count": 6,
            "metadata": {},
            "outputs": [],
            "source": "from geopy.geocoders import Nominatim \nimport folium\nimport requests\nimport pandas as pd\nimport numpy as np"
        },
        {
            "cell_type": "code",
            "execution_count": 13,
            "metadata": {},
            "outputs": [],
            "source": "# Foursquare API configuration\nCLIENT_ID = '44TLKI2RQKYUZGS0PUP2EG3YD1U2FQU1DJPMG4W4SEVSXR3V' \nCLIENT_SECRET = 'EEPPCM3JRVRDSUFJ0QW2C3UYRQIIA15JB5OKTHFBZH4LKBEK'\nVERSION = '20200104'\nLIMIT = 1000\nradius = 10000"
        },
        {
            "cell_type": "code",
            "execution_count": 4,
            "metadata": {},
            "outputs": [
                {
                    "name": "stdout",
                    "output_type": "stream",
                    "text": "the coordinates of jaipur are lat: 26.916194 and long: 75.820349\n"
                }
            ],
            "source": "address = 'Jaipur, India'\n\ngeolocator = Nominatim(user_agent=\"ny_explorer\")\nlocation = geolocator.geocode(address)\njaipur_latitude = location.latitude\njaipur_longitude = location.longitude\nprint('the coordinates of jaipur are lat: {} and long: {}'.format(jaipur_latitude, jaipur_longitude))"
        },
        {
            "cell_type": "code",
            "execution_count": 14,
            "metadata": {},
            "outputs": [],
            "source": "url = 'https://api.foursquare.com/v2/venues/search?client_id={}&client_secret={}&ll={},{}&v={}&radius={}&limit={}'.format(CLIENT_ID, \n                                                                                                                          CLIENT_SECRET,\n                                                                                                                          jaipur_latitude,\n                                                                                                                          jaipur_longitude,\n                                                                                                                          VERSION,\n                                                                                                                          radius, LIMIT)\n\nresults = requests.get(url).json()\n\n\nneighborhoods_data = results['response']['venues']# define the dataframe columns\ncolumn_names = ['Name', 'Category', 'Latitude', 'Longitude'] \n\n# instantiate the dataframe\njaipur_neighborhoods = pd.DataFrame(columns=column_names)\nfor data in neighborhoods_data:\n    neighborhood_name = data['name']\n    neighborhood_lat = data['location']['lat']\n    neighborhood_lon = data['location']['lng']\n    if(len(data['categories'])):\n        neighborhood_categories = data['categories'][0]['name']\n    else:\n        neighborhood_categories = None\n    jaipur_neighborhoods = jaipur_neighborhoods.append({'Name': neighborhood_name,\n                                          'Category': neighborhood_categories,\n                                          'Latitude': neighborhood_lat,\n                                          'Longitude': neighborhood_lon}, ignore_index=True)"
        },
        {
            "cell_type": "code",
            "execution_count": 15,
            "metadata": {},
            "outputs": [
                {
                    "name": "stdout",
                    "output_type": "stream",
                    "text": "the coordinates of udaipur are lat: 24.578721 and long: 73.6862571\n"
                }
            ],
            "source": "address = 'Udaipur, India'\n\ngeolocator = Nominatim(user_agent=\"ny_explorer\")\nlocation = geolocator.geocode(address)\nudaipur_latitude = location.latitude\nudaipur_longitude = location.longitude\nprint('the coordinates of udaipur are lat: {} and long: {}'.format(udaipur_latitude, udaipur_longitude))\n\nurl = 'https://api.foursquare.com/v2/venues/search?client_id={}&client_secret={}&ll={},{}&v={}&radius={}&limit={}'.format(CLIENT_ID, \n                                                                                                                          CLIENT_SECRET,\n                                                                                                                          udaipur_latitude,\n                                                                                                                          udaipur_longitude,\n                                                                                                                          VERSION,\n                                                                                                                          radius, LIMIT)\n\nresults = requests.get(url).json()\n\n\nneighborhoods_data = results['response']['venues']# define the dataframe columns\ncolumn_names = ['Name', 'Category', 'Latitude', 'Longitude'] \n\n# instantiate the dataframe\nudaipur_neighborhoods = pd.DataFrame(columns=column_names)\nfor data in neighborhoods_data:\n    neighborhood_name = data['name']\n    neighborhood_lat = data['location']['lat']\n    neighborhood_lon = data['location']['lng']\n    if(len(data['categories'])):\n        neighborhood_categories = data['categories'][0]['name']\n    else:\n        neighborhood_categories = None\n    udaipur_neighborhoods = udaipur_neighborhoods.append({'Name': neighborhood_name,\n                                          'Category': neighborhood_categories,\n                                          'Latitude': neighborhood_lat,\n                                          'Longitude': neighborhood_lon}, ignore_index=True)"
        },
        {
            "cell_type": "code",
            "execution_count": 16,
            "metadata": {},
            "outputs": [
                {
                    "name": "stdout",
                    "output_type": "stream",
                    "text": "shape of Jaipur : (110, 4) and shape of udaipur : (125, 4)\n"
                }
            ],
            "source": "print(\"shape of Jaipur : {} and shape of udaipur : {}\".format(jaipur_neighborhoods.shape, udaipur_neighborhoods.shape))"
        },
        {
            "cell_type": "code",
            "execution_count": null,
            "metadata": {},
            "outputs": [],
            "source": "def get_near_by_venues(venues_df, radius=10000):\n    \n    venues_list=[]\n    names = venues_df[\"Name\"]\n    latitudes = venues_df[\"Latitude\"]\n    longitudes = venues_df[\"Longitude\"]\n    for name, lat, lng in zip(names, latitudes, longitudes):\n            \n        # create the API request URL\n        url = 'https://api.foursquare.com/v2/venues/explore?&client_id={}&client_secret={}&v={}&ll={},{}&radius={}&limit={}'.format(\n            CLIENT_ID, \n            CLIENT_SECRET, \n            VERSION, \n            lat, \n            lng, \n            radius, \n            LIMIT)\n            \n        try:\n            # make the GET request\n            results = requests.get(url).json()[\"response\"]['groups'][0]['items']\n        except Exception as e:\n            print(url)\n            break\n            continue\n        # return only relevant information for each nearby venue\n        venues_list.append([(\n            v['venue']['name'], \n            v['venue']['location']['lat'], \n            v['venue']['location']['lng'],  \n            v['venue']['categories'][0]['name']) for v in results])\n\n    nearby_venues = pd.DataFrame([item for venue_list in venues_list for item in venue_list])\n    nearby_venues.columns = ['Name', \n                  'Latitude', \n                  'Longitude', \n                  'Categories']\n    \n    return(pd.concat(venues_df, nearby_venues).drop_duplicates())\n"
        }
    ],
    "metadata": {
        "kernelspec": {
            "display_name": "Python 3.6",
            "language": "python",
            "name": "python3"
        },
        "language_info": {
            "codemirror_mode": {
                "name": "ipython",
                "version": 3
            },
            "file_extension": ".py",
            "mimetype": "text/x-python",
            "name": "python",
            "nbconvert_exporter": "python",
            "pygments_lexer": "ipython3",
            "version": "3.6.9"
        }
    },
    "nbformat": 4,
    "nbformat_minor": 1
}