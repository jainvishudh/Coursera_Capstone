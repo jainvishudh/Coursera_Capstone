{
    "cells": [
        {
            "cell_type": "markdown",
            "metadata": {
                "collapsed": true
            },
            "source": "This is week 2 for the final assignment of the capstone project.\nHere we are comparing the two cities of Rajasthan state of India : Jaipur and Udaipur.\nBoth cities have historic places, tourist places, cafes and restaurants and markets.\nIt can be a good project to compare the two cities and check the similarity of the two cities.\nThe comparison can help an investor to figure out what business is profitable in which city and also can help tourists\nto decide which city to visit first.\nWe fetch the data from foursquare API for both the cities. Then we plot the places on interest of both the cities on map\nand make a detailed study."
        },
        {
            "cell_type": "code",
            "execution_count": 1,
            "metadata": {
                "collapsed": true
            },
            "outputs": [
                {
                    "name": "stdout",
                    "output_type": "stream",
                    "text": "Collecting folium\n\u001b[?25l  Downloading https://files.pythonhosted.org/packages/a4/f0/44e69d50519880287cc41e7c8a6acc58daa9a9acf5f6afc52bcc70f69a6d/folium-0.11.0-py2.py3-none-any.whl (93kB)\n\u001b[K     |\u2588\u2588\u2588\u2588\u2588\u2588\u2588\u2588\u2588\u2588\u2588\u2588\u2588\u2588\u2588\u2588\u2588\u2588\u2588\u2588\u2588\u2588\u2588\u2588\u2588\u2588\u2588\u2588\u2588\u2588\u2588\u2588| 102kB 6.8MB/s ta 0:00:011\n\u001b[?25hRequirement already satisfied: jinja2>=2.9 in /opt/conda/envs/Python36/lib/python3.6/site-packages (from folium) (2.10)\nCollecting branca>=0.3.0 (from folium)\n  Downloading https://files.pythonhosted.org/packages/13/fb/9eacc24ba3216510c6b59a4ea1cd53d87f25ba76237d7f4393abeaf4c94e/branca-0.4.1-py3-none-any.whl\nRequirement already satisfied: requests in /opt/conda/envs/Python36/lib/python3.6/site-packages (from folium) (2.21.0)\nRequirement already satisfied: numpy in /opt/conda/envs/Python36/lib/python3.6/site-packages (from folium) (1.15.4)\nRequirement already satisfied: MarkupSafe>=0.23 in /opt/conda/envs/Python36/lib/python3.6/site-packages (from jinja2>=2.9->folium) (1.1.0)\nRequirement already satisfied: certifi>=2017.4.17 in /opt/conda/envs/Python36/lib/python3.6/site-packages (from requests->folium) (2020.6.20)\nRequirement already satisfied: chardet<3.1.0,>=3.0.2 in /opt/conda/envs/Python36/lib/python3.6/site-packages (from requests->folium) (3.0.4)\nRequirement already satisfied: urllib3<1.25,>=1.21.1 in /opt/conda/envs/Python36/lib/python3.6/site-packages (from requests->folium) (1.24.1)\nRequirement already satisfied: idna<2.9,>=2.5 in /opt/conda/envs/Python36/lib/python3.6/site-packages (from requests->folium) (2.8)\nInstalling collected packages: branca, folium\nSuccessfully installed branca-0.4.1 folium-0.11.0\n"
                }
            ],
            "source": "!pip install folium"
        },
        {
            "cell_type": "code",
            "execution_count": 50,
            "metadata": {},
            "outputs": [],
            "source": "from geopy.geocoders import Nominatim \nimport folium\nimport requests\nimport pandas as pd\nimport numpy as np\nimport matplotlib.pyplot as plt"
        },
        {
            "cell_type": "code",
            "execution_count": 13,
            "metadata": {},
            "outputs": [],
            "source": "# Foursquare API configuration\nCLIENT_ID = '44TLKI2RQKYUZGS0PUP2EG3YD1U2FQU1DJPMG4W4SEVSXR3V' \nCLIENT_SECRET = 'EEPPCM3JRVRDSUFJ0QW2C3UYRQIIA15JB5OKTHFBZH4LKBEK'\nVERSION = '20200104'\nLIMIT = 1000\nradius = 10000"
        },
        {
            "cell_type": "code",
            "execution_count": 4,
            "metadata": {},
            "outputs": [
                {
                    "name": "stdout",
                    "output_type": "stream",
                    "text": "the coordinates of jaipur are lat: 26.916194 and long: 75.820349\n"
                }
            ],
            "source": "address = 'Jaipur, India'\n\ngeolocator = Nominatim(user_agent=\"ny_explorer\")\nlocation = geolocator.geocode(address)\njaipur_latitude = location.latitude\njaipur_longitude = location.longitude\nprint('the coordinates of jaipur are lat: {} and long: {}'.format(jaipur_latitude, jaipur_longitude))"
        },
        {
            "cell_type": "code",
            "execution_count": 14,
            "metadata": {},
            "outputs": [],
            "source": "url = 'https://api.foursquare.com/v2/venues/search?client_id={}&client_secret={}&ll={},{}&v={}&radius={}&limit={}'.format(CLIENT_ID, \n                                                                                                                          CLIENT_SECRET,\n                                                                                                                          jaipur_latitude,\n                                                                                                                          jaipur_longitude,\n                                                                                                                          VERSION,\n                                                                                                                          radius, LIMIT)\n\nresults = requests.get(url).json()\n\n\nneighborhoods_data = results['response']['venues']# define the dataframe columns\ncolumn_names = ['Name', 'Category', 'Latitude', 'Longitude'] \n\n# instantiate the dataframe\njaipur_neighborhoods = pd.DataFrame(columns=column_names)\nfor data in neighborhoods_data:\n    neighborhood_name = data['name']\n    neighborhood_lat = data['location']['lat']\n    neighborhood_lon = data['location']['lng']\n    if(len(data['categories'])):\n        neighborhood_categories = data['categories'][0]['name']\n    else:\n        neighborhood_categories = None\n    jaipur_neighborhoods = jaipur_neighborhoods.append({'Name': neighborhood_name,\n                                          'Category': neighborhood_categories,\n                                          'Latitude': neighborhood_lat,\n                                          'Longitude': neighborhood_lon}, ignore_index=True)"
        },
        {
            "cell_type": "code",
            "execution_count": 15,
            "metadata": {},
            "outputs": [
                {
                    "name": "stdout",
                    "output_type": "stream",
                    "text": "the coordinates of udaipur are lat: 24.578721 and long: 73.6862571\n"
                }
            ],
            "source": "address = 'Udaipur, India'\n\ngeolocator = Nominatim(user_agent=\"ny_explorer\")\nlocation = geolocator.geocode(address)\nudaipur_latitude = location.latitude\nudaipur_longitude = location.longitude\nprint('the coordinates of udaipur are lat: {} and long: {}'.format(udaipur_latitude, udaipur_longitude))\n\nurl = 'https://api.foursquare.com/v2/venues/search?client_id={}&client_secret={}&ll={},{}&v={}&radius={}&limit={}'.format(CLIENT_ID, \n                                                                                                                          CLIENT_SECRET,\n                                                                                                                          udaipur_latitude,\n                                                                                                                          udaipur_longitude,\n                                                                                                                          VERSION,\n                                                                                                                          radius, LIMIT)\n\nresults = requests.get(url).json()\n\n\nneighborhoods_data = results['response']['venues']# define the dataframe columns\ncolumn_names = ['Name', 'Category', 'Latitude', 'Longitude'] \n\n# instantiate the dataframe\nudaipur_neighborhoods = pd.DataFrame(columns=column_names)\nfor data in neighborhoods_data:\n    neighborhood_name = data['name']\n    neighborhood_lat = data['location']['lat']\n    neighborhood_lon = data['location']['lng']\n    if(len(data['categories'])):\n        neighborhood_categories = data['categories'][0]['name']\n    else:\n        neighborhood_categories = None\n    udaipur_neighborhoods = udaipur_neighborhoods.append({'Name': neighborhood_name,\n                                          'Category': neighborhood_categories,\n                                          'Latitude': neighborhood_lat,\n                                          'Longitude': neighborhood_lon}, ignore_index=True)"
        },
        {
            "cell_type": "code",
            "execution_count": 16,
            "metadata": {},
            "outputs": [
                {
                    "name": "stdout",
                    "output_type": "stream",
                    "text": "shape of Jaipur : (110, 4) and shape of udaipur : (125, 4)\n"
                }
            ],
            "source": "print(\"shape of Jaipur : {} and shape of udaipur : {}\".format(jaipur_neighborhoods.shape, udaipur_neighborhoods.shape))"
        },
        {
            "cell_type": "code",
            "execution_count": 77,
            "metadata": {},
            "outputs": [],
            "source": "def get_near_by_venues(venues_df, radius=10000):\n    \n    venues_list=[]\n    names = venues_df[\"Name\"]\n    latitudes = venues_df[\"Latitude\"]\n    longitudes = venues_df[\"Longitude\"]\n    for name, lat, lng in zip(names, latitudes, longitudes):\n            \n        # create the API request URL\n        url = 'https://api.foursquare.com/v2/venues/explore?&client_id={}&client_secret={}&v={}&ll={},{}&radius={}&limit={}'.format(\n            CLIENT_ID, \n            CLIENT_SECRET, \n            VERSION, \n            lat, \n            lng, \n            radius, \n            LIMIT)\n            \n        try:\n            # make the GET request\n            results = requests.get(url).json()[\"response\"]['groups'][0]['items']\n        except Exception as e:\n            print(url, e)\n            break\n        # return only relevant information for each nearby venue\n        venues_list.append([(\n            v['venue']['name'], \n            v['venue']['location']['lat'], \n            v['venue']['location']['lng'],  \n            v['venue']['categories'][0]['name']) for v in results])\n\n    nearby_venues = pd.DataFrame([item for venue_list in venues_list for item in venue_list])\n    nearby_venues.columns = ['Name', \n                  'Latitude', \n                  'Longitude', \n                  'Category']\n    \n    return(pd.concat([venues_df, nearby_venues], axis=0))\n"
        },
        {
            "cell_type": "code",
            "execution_count": 60,
            "metadata": {},
            "outputs": [
                {
                    "name": "stdout",
                    "output_type": "stream",
                    "text": "Empty DataFrame\nColumns: [Name, Category, Latitude, Longitude]\nIndex: []\nEmpty DataFrame\nColumns: [Name, Category, Latitude, Longitude]\nIndex: []\n"
                }
            ],
            "source": "# filter none column\nnone_udaipur_neighborhoods = udaipur_neighborhoods[udaipur_neighborhoods['Category'].isnull()]\nprint(none_udaipur_neighborhoods)\nnone_jaipur_neighborhoods = jaipur_neighborhoods[jaipur_neighborhoods['Category'].isnull()]\nprint(none_jaipur_neighborhoods)"
        },
        {
            "cell_type": "code",
            "execution_count": 57,
            "metadata": {},
            "outputs": [],
            "source": "# let us fill null with not known\nudaipur_neighborhoods.fillna(\"not known\", inplace=True)"
        },
        {
            "cell_type": "code",
            "execution_count": 59,
            "metadata": {},
            "outputs": [],
            "source": "# let us fill null with not known\njaipur_neighborhoods.fillna(\"not known\", inplace=True)"
        },
        {
            "cell_type": "code",
            "execution_count": 63,
            "metadata": {},
            "outputs": [
                {
                    "name": "stdout",
                    "output_type": "stream",
                    "text": "['Art Museum' 'Arts & Crafts Store' 'Bank' 'Bed & Breakfast' 'Building'\n 'Caf\u00e9' 'Clothing Store' 'Coffee Shop' 'Department Store' 'Design Studio'\n 'Dessert Shop' 'Distribution Center' 'Emergency Room' 'Exhibit'\n 'Fast Food Restaurant' 'Field' 'Flea Market' 'Food' 'Food Court'\n 'Food Stand' 'Furniture / Home Store' 'Garden' 'Gift Shop'\n 'Government Building' 'High School' 'Historic Site' 'History Museum'\n 'Hospital' 'Hotel' 'Ice Cream Shop' 'Indian Restaurant' 'Jewelry Store'\n 'Juice Bar' 'Lake' 'Laundry Service' 'Market' \"Men's Store\"\n 'Miscellaneous Shop' 'Motorcycle Shop' 'Movie Theater'\n 'Multicuisine Indian Restaurant' 'Multiplex' 'Museum' 'Non-Profit'\n 'North Indian Restaurant' 'Office' 'Pharmacy' 'Shoe Store'\n 'Shopping Mall' 'Shopping Plaza' 'Souvenir Shop' 'Spa' 'Tea Room'\n 'Temple' \"Women's Store\" 'Zoo' 'not known']\n"
                },
                {
                    "data": {
                        "text/plain": "Indian Restaurant                 7\nBank                              7\nJewelry Store                     6\nnot known                         6\nClothing Store                    5\nIce Cream Shop                    4\nOffice                            4\nArts & Crafts Store               4\nMiscellaneous Shop                3\nHistoric Site                     3\nHospital                          3\nWomen's Store                     3\nHotel                             2\nMultiplex                         2\nArt Museum                        2\nTea Room                          2\nDessert Shop                      2\nMen's Store                       2\nMuseum                            2\nBuilding                          2\nMarket                            2\nShopping Mall                     2\nSouvenir Shop                     1\nBed & Breakfast                   1\nHistory Museum                    1\nFood                              1\nHigh School                       1\nDepartment Store                  1\nShoe Store                        1\nNorth Indian Restaurant           1\nNon-Profit                        1\nMotorcycle Shop                   1\nDistribution Center               1\nEmergency Room                    1\nGovernment Building               1\nMovie Theater                     1\nCaf\u00e9                              1\nZoo                               1\nTemple                            1\nGarden                            1\nFast Food Restaurant              1\nCoffee Shop                       1\nField                             1\nFood Stand                        1\nSpa                               1\nPharmacy                          1\nShopping Plaza                    1\nGift Shop                         1\nLaundry Service                   1\nLake                              1\nFurniture / Home Store            1\nExhibit                           1\nFood Court                        1\nMulticuisine Indian Restaurant    1\nFlea Market                       1\nDesign Studio                     1\nJuice Bar                         1\nName: Category, dtype: int64"
                    },
                    "execution_count": 63,
                    "metadata": {},
                    "output_type": "execute_result"
                }
            ],
            "source": "print(np.unique(jaipur_neighborhoods.Category))\njaipur_neighborhoods.Category.value_counts()"
        },
        {
            "cell_type": "code",
            "execution_count": 86,
            "metadata": {},
            "outputs": [
                {
                    "name": "stderr",
                    "output_type": "stream",
                    "text": "/opt/conda/envs/Python36/lib/python3.6/site-packages/ipykernel/__main__.py:38: FutureWarning: Sorting because non-concatenation axis is not aligned. A future version\nof pandas will change to not sort by default.\n\nTo accept the future behavior, pass 'sort=False'.\n\nTo retain the current behavior and silence the warning, pass 'sort=True'.\n\n"
                }
            ],
            "source": "jaipur_venues = get_near_by_venues(jaipur_neighborhoods)"
        },
        {
            "cell_type": "code",
            "execution_count": 87,
            "metadata": {},
            "outputs": [
                {
                    "name": "stderr",
                    "output_type": "stream",
                    "text": "/opt/conda/envs/Python36/lib/python3.6/site-packages/ipykernel/__main__.py:38: FutureWarning: Sorting because non-concatenation axis is not aligned. A future version\nof pandas will change to not sort by default.\n\nTo accept the future behavior, pass 'sort=False'.\n\nTo retain the current behavior and silence the warning, pass 'sort=True'.\n\n"
                }
            ],
            "source": "udaipur_venues = get_near_by_venues(udaipur_neighborhoods)"
        },
        {
            "cell_type": "code",
            "execution_count": 89,
            "metadata": {},
            "outputs": [
                {
                    "data": {
                        "text/plain": "(7875, 4)"
                    },
                    "execution_count": 89,
                    "metadata": {},
                    "output_type": "execute_result"
                }
            ],
            "source": "jaipur_venues.shape\nudaipur_venues.shape"
        },
        {
            "cell_type": "code",
            "execution_count": 90,
            "metadata": {},
            "outputs": [],
            "source": "jaipur_places = jaipur_venues.copy()\nudaipur_places = udaipur_venues.copy()"
        },
        {
            "cell_type": "code",
            "execution_count": 91,
            "metadata": {},
            "outputs": [
                {
                    "name": "stdout",
                    "output_type": "stream",
                    "text": "shape before drop (6213, 4), (7875, 4)\nshape after drop (217, 4), (177, 4)\n"
                }
            ],
            "source": "print(\"shape before drop {}, {}\".format(jaipur_places.shape,udaipur_places.shape))\njaipur_places.drop_duplicates(inplace=True)\nudaipur_places.drop_duplicates(inplace=True)\nprint(\"shape after drop {}, {}\".format(jaipur_places.shape,udaipur_places.shape))"
        },
        {
            "cell_type": "code",
            "execution_count": null,
            "metadata": {},
            "outputs": [],
            "source": ""
        }
    ],
    "metadata": {
        "kernelspec": {
            "display_name": "Python 3.6",
            "language": "python",
            "name": "python3"
        },
        "language_info": {
            "codemirror_mode": {
                "name": "ipython",
                "version": 3
            },
            "file_extension": ".py",
            "mimetype": "text/x-python",
            "name": "python",
            "nbconvert_exporter": "python",
            "pygments_lexer": "ipython3",
            "version": "3.6.9"
        }
    },
    "nbformat": 4,
    "nbformat_minor": 1
}