{
    "cells": [
        {
            "cell_type": "markdown",
            "metadata": {
                "collapsed": true
            },
            "source": "# Introduction/ Business problem"
        },
        {
            "cell_type": "markdown",
            "metadata": {},
            "source": "There are many cities in the state of Rajasthan in India which have witnessed great history and are symbols of great culture and art. Jaipur and Udaipur are two major cities in Rajasthan which are great sources of attraction of tourists across the globe. In this study we will compare the two cities. Look at how the major visiting places are located in the cities and what business is favourable in which city."
        },
        {
            "cell_type": "markdown",
            "metadata": {},
            "source": "# Type of data / source of data"
        },
        {
            "cell_type": "markdown",
            "metadata": {},
            "source": "The sole source of data for this project is Foursquare API. We have used the APIs for fetching near by venues, their latitudes and longitudes and their categories."
        },
        {
            "cell_type": "markdown",
            "metadata": {},
            "source": "# Methodology"
        },
        {
            "cell_type": "markdown",
            "metadata": {},
            "source": "We first fetched the primary coordinates of the two cities and then used them to explore the near by venues using Foursquare API. We refactored the data into pandas dataframes and did exploratory data analysis. We used numpy, pandas libraries extensively and filtered the data to remove unknown, duplicates. We used Folium library to plot the maps and markup each venue with their color types on the map."
        },
        {
            "cell_type": "markdown",
            "metadata": {},
            "source": "# Results"
        },
        {
            "attachments": {},
            "cell_type": "markdown",
            "metadata": {},
            "source": "In this assignment, we tried to compare the two cities and check how similar are the two. Hotels have the highest numbers in both the cities. Then they are followed by Restaurants and Cafes and Historic places. When they are plotted on map it was seen that most of the visiting places are concentreated at one place where few are also scattered far apart in both the cities. In udaipur most of the places are situated closer to lake pichola and lake fateh sagar. In jaipur Amer and Jaigarh Forts are located far from remaining places. "
        },
        {
            "cell_type": "markdown",
            "metadata": {},
            "source": "# Conclusion"
        },
        {
            "cell_type": "markdown",
            "metadata": {},
            "source": "From the analysis of geographical data of both the cities we can say that both the cities have almost the same number of venues in each category i.e., Hotels, Historic places, Museums, "
        }
    ],
    "metadata": {
        "kernelspec": {
            "display_name": "Python 3.6",
            "language": "python",
            "name": "python3"
        },
        "language_info": {
            "codemirror_mode": {
                "name": "ipython",
                "version": 3
            },
            "file_extension": ".py",
            "mimetype": "text/x-python",
            "name": "python",
            "nbconvert_exporter": "python",
            "pygments_lexer": "ipython3",
            "version": "3.6.9"
        }
    },
    "nbformat": 4,
    "nbformat_minor": 1
}